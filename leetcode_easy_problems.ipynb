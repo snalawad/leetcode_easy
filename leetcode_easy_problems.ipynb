{
 "cells": [
  {
   "cell_type": "code",
   "execution_count": 13,
   "outputs": [],
   "source": [
    "def sort_array(list_of_nums):\n",
    "    n = len(list_of_nums)\n",
    "\n",
    "    for i in range(n):\n",
    "        for j in range(0, n - i - 1):\n",
    "            if list_of_nums[j] > list_of_nums[j + 1]:\n",
    "                list_of_nums[j], list_of_nums[j + 1] = list_of_nums[j + 1], list_of_nums[j]\n",
    "\n",
    "    return list_of_nums"
   ],
   "metadata": {
    "collapsed": false,
    "ExecuteTime": {
     "end_time": "2023-07-25T05:25:17.688180400Z",
     "start_time": "2023-07-25T05:25:17.669199Z"
    }
   }
  },
  {
   "cell_type": "code",
   "execution_count": 1,
   "outputs": [],
   "source": [
    "from typing import List"
   ],
   "metadata": {
    "collapsed": false,
    "ExecuteTime": {
     "end_time": "2023-07-17T16:36:50.219096400Z",
     "start_time": "2023-07-17T16:36:50.200138100Z"
    }
   }
  },
  {
   "cell_type": "markdown",
   "source": [
    "## 1. Two Sum\n",
    "\n",
    "Given an array of integers nums and an integer target, return indices of the two numbers such that they add up to target.\n",
    "You may assume that each input would have exactly one solution, and you may not use the same element twice.\n",
    "You can return the answer in any order.\n",
    "\n",
    "Example 1:\n",
    "\n",
    "Input: nums = [2,7,11,15], target = 9\n",
    "Output: [0,1]\n",
    "Explanation: Because nums[0] + nums[1] == 9, we return [0, 1]."
   ],
   "metadata": {
    "collapsed": false
   }
  },
  {
   "cell_type": "code",
   "execution_count": 60,
   "metadata": {
    "collapsed": true,
    "ExecuteTime": {
     "end_time": "2023-07-17T17:27:01.210153100Z",
     "start_time": "2023-07-17T17:27:01.203172400Z"
    }
   },
   "outputs": [],
   "source": [
    "def twoSum(nums: List[int], target: int) -> List[int]:\n",
    "    checked = {}\n",
    "    for i, j in enumerate(nums):\n",
    "        print(i,j)\n",
    "        r = target - j\n",
    "        print(r)\n",
    "        if r in checked:\n",
    "            return [checked[r], i]\n",
    "        checked[j] = i\n",
    "        print(checked)"
   ]
  },
  {
   "cell_type": "markdown",
   "source": [
    "The basic concept is to iterate the array and store the iindex of the number and return the index when the result is equal to the number."
   ],
   "metadata": {
    "collapsed": false
   }
  },
  {
   "cell_type": "code",
   "execution_count": 62,
   "outputs": [
    {
     "name": "stdout",
     "output_type": "stream",
     "text": [
      "0 7\n",
      "2\n",
      "{7: 0}\n",
      "1 11\n",
      "-2\n",
      "{7: 0, 11: 1}\n",
      "2 15\n",
      "-6\n",
      "{7: 0, 11: 1, 15: 2}\n",
      "3 2\n",
      "7\n"
     ]
    },
    {
     "data": {
      "text/plain": "[0, 3]"
     },
     "execution_count": 62,
     "metadata": {},
     "output_type": "execute_result"
    }
   ],
   "source": [
    "twoSum([7,11,15,2], 9)"
   ],
   "metadata": {
    "collapsed": false,
    "ExecuteTime": {
     "end_time": "2023-07-17T17:43:33.471738900Z",
     "start_time": "2023-07-17T17:43:33.445807200Z"
    }
   }
  },
  {
   "cell_type": "markdown",
   "source": [
    "### 9. Palindrome Number\n",
    "\n",
    "Given an integer x, return true if x is a\n",
    "palindrome , and false otherwise.\n",
    "\n",
    "Example 1:\n",
    "\n",
    "Input: x = 121\n",
    "Output: true\n",
    "Explanation: 121 reads as 121 from left to right and from right to left.\n",
    "\n",
    "Constraints:\n",
    "\n",
    "-2^31 <= x <= 2^31 - 1\n"
   ],
   "metadata": {
    "collapsed": false
   }
  },
  {
   "cell_type": "code",
   "execution_count": 8,
   "outputs": [],
   "source": [
    "def isPalindrome(x: int) -> bool:\n",
    "    string_of_num = str(x)\n",
    "\n",
    "    if string_of_num[::-1] == string_of_num:\n",
    "        return True\n",
    "    else:\n",
    "        return False"
   ],
   "metadata": {
    "collapsed": false,
    "ExecuteTime": {
     "end_time": "2023-07-21T18:07:01.858408100Z",
     "start_time": "2023-07-21T18:07:01.841426400Z"
    }
   }
  },
  {
   "cell_type": "code",
   "execution_count": 9,
   "outputs": [
    {
     "data": {
      "text/plain": "True"
     },
     "execution_count": 9,
     "metadata": {},
     "output_type": "execute_result"
    }
   ],
   "source": [
    "isPalindrome(515)"
   ],
   "metadata": {
    "collapsed": false,
    "ExecuteTime": {
     "end_time": "2023-07-21T18:07:02.571672700Z",
     "start_time": "2023-07-21T18:07:02.558706600Z"
    }
   }
  },
  {
   "cell_type": "code",
   "execution_count": 12,
   "outputs": [],
   "source": [
    "def isPalindrome(x: int) -> bool:\n",
    "    if x < 0:\n",
    "        return False\n",
    "    return str(x) == str(x)[::-1]"
   ],
   "metadata": {
    "collapsed": false,
    "ExecuteTime": {
     "end_time": "2023-07-21T18:09:15.918366Z",
     "start_time": "2023-07-21T18:09:15.906396700Z"
    }
   }
  },
  {
   "cell_type": "code",
   "execution_count": 13,
   "outputs": [
    {
     "data": {
      "text/plain": "True"
     },
     "execution_count": 13,
     "metadata": {},
     "output_type": "execute_result"
    }
   ],
   "source": [
    "isPalindrome(515)"
   ],
   "metadata": {
    "collapsed": false,
    "ExecuteTime": {
     "end_time": "2023-07-21T18:09:16.423719900Z",
     "start_time": "2023-07-21T18:09:16.411724700Z"
    }
   }
  },
  {
   "cell_type": "markdown",
   "source": [
    "### 14. Longest Common Prefix\n",
    "\n",
    "Write a function to find the longest common prefix string amongst an array of strings.\n",
    "\n",
    "If there is no common prefix, return an empty string \"\".\n",
    "\n",
    "Example 1:\n",
    "\n",
    "Input: strs = [\"flower\",\"flow\",\"flight\"]\n",
    "Output: \"fl\""
   ],
   "metadata": {
    "collapsed": false
   }
  }
 ],
 "metadata": {
  "kernelspec": {
   "display_name": "Python 3",
   "language": "python",
   "name": "python3"
  },
  "language_info": {
   "codemirror_mode": {
    "name": "ipython",
    "version": 2
   },
   "file_extension": ".py",
   "mimetype": "text/x-python",
   "name": "python",
   "nbconvert_exporter": "python",
   "pygments_lexer": "ipython2",
   "version": "2.7.6"
  }
 },
 "nbformat": 4,
 "nbformat_minor": 0
}
